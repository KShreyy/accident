{
 "cells": [
  {
   "cell_type": "markdown",
   "id": "4fddf0e3-3f2a-4148-aa40-6f7f332961d2",
   "metadata": {},
   "source": [
    "import necessary libraries"
   ]
  },
  {
   "cell_type": "code",
   "execution_count": null,
   "id": "c741ea9c-0058-4293-9703-96bb065cb7f0",
   "metadata": {},
   "outputs": [],
   "source": [
    "import pandas as pd\n",
    "from sklearn.ensemble import RandomForestRegressor, GradientBoostingRegressor\n",
    "from sklearn.preprocessing import LabelEncoder, StandardScaler\n",
    "from sklearn.model_selection import train_test_split, GridSearchCV\n",
    "from sklearn.metrics import mean_squared_error\n",
    "import streamlit as st\n",
    "import pickle\n",
    "\n"
   ]
  },
  {
   "cell_type": "markdown",
   "id": "5ef70f8e-9bde-40bb-9109-142c70e5bd4c",
   "metadata": {},
   "source": [
    "loading dataset and preprocessing"
   ]
  },
  {
   "cell_type": "code",
   "execution_count": null,
   "id": "385d307c-b812-4375-bc84-a360e5843a02",
   "metadata": {},
   "outputs": [],
   "source": [
    "# Load the dataset\n",
    "file_path = 'Industry_accident_dataset.csv'  # Replace with your file path\n",
    "df = pd.read_csv(file_path)\n",
    "\n",
    "# Clean the column names\n",
    "df.columns = df.columns.str.strip()\n",
    "\n",
    "# Extract relevant columns\n",
    "df = df[['Company', 'Month', 'Accident type']]\n",
    "\n",
    "# Add a column for the number of accidents\n",
    "df['Accident Count'] = 1\n",
    "\n",
    "# Group by Company and Month to get the number of accidents\n",
    "df_grouped = df.groupby(['Company', 'Month']).size().reset_index(name='Accident Count')\n",
    "\n"
   ]
  },
  {
   "cell_type": "markdown",
   "id": "18584494-0383-42c1-9e05-976207cb89f6",
   "metadata": {},
   "source": [
    "Feature engineering"
   ]
  },
  {
   "cell_type": "code",
   "execution_count": null,
   "id": "2b0902c8-80c9-459c-9cac-8c979d0c5ee6",
   "metadata": {},
   "outputs": [],
   "source": [
    "# Encode categorical variables\n",
    "label_encoder_company = LabelEncoder()\n",
    "label_encoder_month = LabelEncoder()\n",
    "\n",
    "df_grouped['Company'] = label_encoder_company.fit_transform(df_grouped['Company'])\n",
    "df_grouped['Month'] = label_encoder_month.fit_transform(df_grouped['Month'])\n",
    "\n",
    "# Standardize the features\n",
    "scaler = StandardScaler()\n",
    "df_grouped[['Company', 'Month']] = scaler.fit_transform(df_grouped[['Company', 'Month']])\n",
    "\n",
    "# Features and target\n",
    "X = df_grouped[['Company', 'Month']]\n",
    "y = df_grouped['Accident Count']\n",
    "\n"
   ]
  },
  {
   "cell_type": "markdown",
   "id": "c330c67f-34e7-4a32-aaac-e9b3d1e426c5",
   "metadata": {},
   "source": [
    "splitting and finding best model"
   ]
  },
  {
   "cell_type": "code",
   "execution_count": null,
   "id": "7e4b3ca5-ef2e-438f-b12a-73e2c0757bb6",
   "metadata": {},
   "outputs": [],
   "source": [
    "# Split the data\n",
    "X_train, X_test, y_train, y_test = train_test_split(X, y, test_size=0.2, random_state=42)\n",
    "\n",
    "# Model selection and hyperparameter tuning\n",
    "# Use GridSearchCV to find the best model and hyperparameters\n",
    "models = {\n",
    "    'RandomForest': RandomForestRegressor(),\n",
    "    'GradientBoosting': GradientBoostingRegressor()\n",
    "}\n",
    "\n",
    "params = {\n",
    "    'RandomForest': {\n",
    "        'n_estimators': [100, 200, 300],\n",
    "        'max_depth': [None, 10, 20],\n",
    "        'min_samples_split': [2, 5, 10]\n",
    "    },\n",
    "    'GradientBoosting': {\n",
    "        'n_estimators': [100, 200, 300],\n",
    "        'learning_rate': [0.01, 0.1, 0.2],\n",
    "        'max_depth': [3, 5, 7]\n",
    "    }\n",
    "}\n",
    "\n",
    "# Finding the best model\n",
    "best_model = None\n",
    "best_mse = float('inf')\n",
    "for model_name in models:\n",
    "    model = GridSearchCV(models[model_name], params[model_name], scoring='neg_mean_squared_error', cv=5)\n",
    "    model.fit(X_train, y_train)\n",
    "    if -model.best_score_ < best_mse:\n",
    "        best_mse = -model.best_score_\n",
    "        best_model = model.best_estimator_\n",
    "\n",
    "best_mse"
   ]
  },
  {
   "cell_type": "markdown",
   "id": "341ddb85-43ce-4004-b8b9-09e84318e93b",
   "metadata": {},
   "source": [
    "saving model and creating necessesary model"
   ]
  },
  {
   "cell_type": "code",
   "execution_count": null,
   "id": "1667a9a5-8a68-4b6e-b0e1-8bbc23b726b4",
   "metadata": {},
   "outputs": [],
   "source": [
    "# Save the trained model to a pickle file\n",
    "with open('best_model.pkl', 'wb') as model_file:\n",
    "    pickle.dump(best_model, model_file)\n",
    "\n",
    "# Save the label encoders and scaler\n",
    "with open('label_encoder_company.pkl', 'wb') as le_company_file:\n",
    "    pickle.dump(label_encoder_company, le_company_file)\n",
    "\n",
    "with open('label_encoder_month.pkl', 'wb') as le_month_file:\n",
    "    pickle.dump(label_encoder_month, le_month_file)\n",
    "\n",
    "with open('scaler.pkl', 'wb') as scaler_file:\n",
    "    pickle.dump(scaler, scaler_file)\n",
    "\n",
    "\n",
    "\n",
    "# Predict on test set\n",
    "y_pred = best_model.predict(X_test)\n",
    "\n",
    "# Calculate MSE\n",
    "mse = mean_squared_error(y_test, y_pred)\n",
    "st.write(f'Mean Squared Error: {mse}')\n",
    "\n",
    "# Streamlit interface\n",
    "st.title('Accident Prediction App')\n",
    "\n",
    "# Get list of unique companies and months\n",
    "unique_companies = df['Company'].unique()\n",
    "unique_months = df['Month'].unique()\n",
    "\n",
    "# Company selection\n",
    "selected_company = st.selectbox('Select Company:', unique_companies)\n",
    "encoded_company = label_encoder_company.transform([selected_company])[0]\n",
    "encoded_company = scaler.transform([[encoded_company, 0]])[0][0]\n",
    "\n",
    "# Month selection\n",
    "selected_month = st.selectbox('Select Month:', unique_months)\n",
    "encoded_month = label_encoder_month.transform([selected_month])[0]\n",
    "encoded_month = scaler.transform([[0, encoded_month]])[0][1]\n",
    "\n",
    "# Predict the number of accidents\n",
    "input_data = [[encoded_company, encoded_month]]\n",
    "predicted_accidents = best_model.predict(input_data)[0]\n",
    "\n",
    "# Display the prediction\n",
    "st.write(f'Predicted number of accidents for {selected_company} in {selected_month}: {predicted_accidents:.2f}')\n",
    "\n",
    "# Visualize actual vs predicted values\n",
    "y_pred = best_model.predict(X_test)\n",
    "st.write('Actual vs Predicted Number of Accidents')\n",
    "st.line_chart({'Actual': y_test.values, 'Predicted': y_pred})"
   ]
  }
 ],
 "metadata": {
  "kernelspec": {
   "display_name": "Python 3 (ipykernel)",
   "language": "python",
   "name": "python3"
  },
  "language_info": {
   "codemirror_mode": {
    "name": "ipython",
    "version": 3
   },
   "file_extension": ".py",
   "mimetype": "text/x-python",
   "name": "python",
   "nbconvert_exporter": "python",
   "pygments_lexer": "ipython3",
   "version": "3.11.4"
  }
 },
 "nbformat": 4,
 "nbformat_minor": 5
}
